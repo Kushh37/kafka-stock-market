{
 "cells": [
  {
   "cell_type": "code",
   "execution_count": null,
   "id": "e2d3f594",
   "metadata": {},
   "outputs": [],
   "source": [
    "pip install kafka-python\n",
    "\n",
    "import pandas as pd\n",
    "from kafka import KafkaProducer\n",
    "from json import dumps\n",
    "import json\n",
    "from time import sleep"
   ]
  },
  {
   "cell_type": "code",
   "execution_count": null,
   "id": "b483a0e4",
   "metadata": {},
   "outputs": [],
   "source": [
    "producer = KafkaProducer(bootstrap_servers=[':9092'], #Your IP\n",
    "                         value_serializer=lambda x: \n",
    "                         dumps(x).encode('utf-8'))\n",
    "\n",
    "producer.send('demo', value={'Fruit':'Mango'})\n",
    "\n",
    "df = pd.read_csv(\"data/output.csv\")\n",
    "df.head()\n",
    "while True:\n",
    "    dict_stock = df.sample(1).to_dict(orient=\"records\")[0]\n",
    "    producer.send('demo', value=dict_stock)\n",
    "    sleep(1)\n",
    "    producer.flush() #clear data from kafka server"
   ]
  }
 ],
 "metadata": {
  "kernelspec": {
   "display_name": "Python 3 (ipykernel)",
   "language": "python",
   "name": "python3"
  },
  "language_info": {
   "codemirror_mode": {
    "name": "ipython",
    "version": 3
   },
   "file_extension": ".py",
   "mimetype": "text/x-python",
   "name": "python",
   "nbconvert_exporter": "python",
   "pygments_lexer": "ipython3",
   "version": "3.10.0"
  }
 },
 "nbformat": 4,
 "nbformat_minor": 5
}
